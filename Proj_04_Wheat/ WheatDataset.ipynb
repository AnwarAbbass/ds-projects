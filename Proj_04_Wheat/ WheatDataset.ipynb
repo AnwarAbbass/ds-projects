{
 "cells": [
  {
   "cell_type": "markdown",
   "metadata": {},
   "source": [
    "### Wheat Dataset "
   ]
  },
  {
   "cell_type": "markdown",
   "metadata": {},
   "source": [
    "The Wheat Seeds Dataset involves the prediction of species given measurements of seeds from different varieties of wheat.\n",
    "\n",
    "It is a __binary (2-class) classification problem__. The number of observations for each class is balanced. There are 210 observations with 7 input variables and 1 output variable. The variable names are as follows:\n",
    "\n",
    "    - Area.\n",
    "    - Perimeter.\n",
    "    - Compactness\n",
    "    - Length of kernel.\n",
    "    - Width of kernel.\n",
    "    - Asymmetry coefficient.\n",
    "    - Length of kernel groove.\n",
    "    - Class (1, 2, 3).\n",
    "    \n",
    "The baseline performance of predicting the most prevalent class is a classification accuracy of approximately 28%.\n",
    "\n",
    "MORE INFORMATION --> http://archive.ics.uci.edu/ml/datasets/seeds\n",
    "\n",
    "DOWNLOAD -- >http://archive.ics.uci.edu/ml/machine-learning-databases/00236/seeds_dataset.txt\n"
   ]
  },
  {
   "cell_type": "code",
   "execution_count": 1,
   "metadata": {},
   "outputs": [
    {
     "name": "stdout",
     "output_type": "stream",
     "text": [
      "  % Total    % Received % Xferd  Average Speed   Time    Time     Time  Current\n",
      "                                 Dload  Upload   Total   Spent    Left  Speed\n",
      "100  9300  100  9300    0     0  47448      0 --:--:-- --:--:-- --:--:-- 47692\n"
     ]
    }
   ],
   "source": [
    "!curl -O http://archive.ics.uci.edu/ml/machine-learning-databases/00236/seeds_dataset.txt"
   ]
  },
  {
   "cell_type": "code",
   "execution_count": 2,
   "metadata": {},
   "outputs": [],
   "source": [
    "!mkdir data "
   ]
  },
  {
   "cell_type": "code",
   "execution_count": 3,
   "metadata": {},
   "outputs": [],
   "source": [
    "!mv seeds_dataset.txt data/"
   ]
  },
  {
   "cell_type": "code",
   "execution_count": 5,
   "metadata": {},
   "outputs": [
    {
     "name": "stdout",
     "output_type": "stream",
     "text": [
      "15.26\t14.84\t0.871\t5.763\t3.312\t2.221\t5.22\t1\n",
      "14.88\t14.57\t0.8811\t5.554\t3.333\t1.018\t4.956\t1\n",
      "14.29\t14.09\t0.905\t5.291\t3.337\t2.699\t4.825\t1\n"
     ]
    }
   ],
   "source": [
    "!head -n 3 data/seeds_dataset.txt"
   ]
  },
  {
   "cell_type": "code",
   "execution_count": 6,
   "metadata": {},
   "outputs": [
    {
     "name": "stdout",
     "output_type": "stream",
     "text": [
      "     209\n"
     ]
    }
   ],
   "source": [
    "!cat data/seeds_dataset.txt| wc -l "
   ]
  },
  {
   "cell_type": "markdown",
   "metadata": {},
   "source": [
    "## Step 1: Load the Data and aswering the question"
   ]
  },
  {
   "cell_type": "code",
   "execution_count": null,
   "metadata": {},
   "outputs": [],
   "source": []
  },
  {
   "cell_type": "markdown",
   "metadata": {},
   "source": [
    "## Step 2: Check data for problems "
   ]
  },
  {
   "cell_type": "code",
   "execution_count": null,
   "metadata": {},
   "outputs": [],
   "source": []
  },
  {
   "cell_type": "markdown",
   "metadata": {},
   "source": [
    "## Step 3: Tidying the data\n"
   ]
  },
  {
   "cell_type": "code",
   "execution_count": null,
   "metadata": {},
   "outputs": [],
   "source": []
  },
  {
   "cell_type": "markdown",
   "metadata": {},
   "source": [
    "## Step 4: Exploratory analysis"
   ]
  },
  {
   "cell_type": "code",
   "execution_count": null,
   "metadata": {},
   "outputs": [],
   "source": []
  },
  {
   "cell_type": "markdown",
   "metadata": {},
   "source": [
    "## Step 5:  Building the classifier"
   ]
  },
  {
   "cell_type": "code",
   "execution_count": null,
   "metadata": {},
   "outputs": [],
   "source": []
  },
  {
   "cell_type": "markdown",
   "metadata": {},
   "source": [
    "## Step 6:  Reproducibility"
   ]
  },
  {
   "cell_type": "code",
   "execution_count": null,
   "metadata": {},
   "outputs": [],
   "source": []
  }
 ],
 "metadata": {
  "kernelspec": {
   "display_name": "Python 3",
   "language": "python",
   "name": "python3"
  },
  "language_info": {
   "codemirror_mode": {
    "name": "ipython",
    "version": 3
   },
   "file_extension": ".py",
   "mimetype": "text/x-python",
   "name": "python",
   "nbconvert_exporter": "python",
   "pygments_lexer": "ipython3",
   "version": "3.8.5"
  }
 },
 "nbformat": 4,
 "nbformat_minor": 4
}
